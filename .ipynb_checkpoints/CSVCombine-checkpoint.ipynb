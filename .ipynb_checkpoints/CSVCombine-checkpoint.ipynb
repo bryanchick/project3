{
 "cells": [
  {
   "cell_type": "code",
   "execution_count": 0,
   "metadata": {
    "colab": {},
    "colab_type": "code",
    "id": "mCnsnhiRioa-"
   },
   "outputs": [],
   "source": [
    "import pandas as pd\n",
    "import glob"
   ]
  },
  {
   "cell_type": "code",
   "execution_count": 0,
   "metadata": {
    "colab": {
     "base_uri": "https://localhost:8080/",
     "height": 122
    },
    "colab_type": "code",
    "executionInfo": {
     "elapsed": 16291,
     "status": "ok",
     "timestamp": 1555965566082,
     "user": {
      "displayName": "Michael Dendinger",
      "photoUrl": "https://lh6.googleusercontent.com/-k4mVZ8txeng/AAAAAAAAAAI/AAAAAAAAGQY/DGNX_VENvSY/s64/photo.jpg",
      "userId": "07534567184190262751"
     },
     "user_tz": 360
    },
    "id": "YF85886riqdM",
    "outputId": "35135fef-143a-4251-aca4-ba588a8557c6"
   },
   "outputs": [
    {
     "name": "stdout",
     "output_type": "stream",
     "text": [
      "Go to this URL in a browser: https://accounts.google.com/o/oauth2/auth?client_id=947318989803-6bn6qk8qdgf4n4g3pfee6491hc0brc4i.apps.googleusercontent.com&redirect_uri=urn%3Aietf%3Awg%3Aoauth%3A2.0%3Aoob&scope=email%20https%3A%2F%2Fwww.googleapis.com%2Fauth%2Fdocs.test%20https%3A%2F%2Fwww.googleapis.com%2Fauth%2Fdrive%20https%3A%2F%2Fwww.googleapis.com%2Fauth%2Fdrive.photos.readonly%20https%3A%2F%2Fwww.googleapis.com%2Fauth%2Fpeopleapi.readonly&response_type=code\n",
      "\n",
      "Enter your authorization code:\n",
      "··········\n",
      "Mounted at /content/drive\n"
     ]
    }
   ],
   "source": [
    "from google.colab import drive\n",
    "drive.mount('/content/drive')"
   ]
  },
  {
   "cell_type": "code",
   "execution_count": 0,
   "metadata": {
    "colab": {
     "base_uri": "https://localhost:8080/",
     "height": 884
    },
    "colab_type": "code",
    "executionInfo": {
     "elapsed": 2030,
     "status": "ok",
     "timestamp": 1555965583461,
     "user": {
      "displayName": "Michael Dendinger",
      "photoUrl": "https://lh6.googleusercontent.com/-k4mVZ8txeng/AAAAAAAAAAI/AAAAAAAAGQY/DGNX_VENvSY/s64/photo.jpg",
      "userId": "07534567184190262751"
     },
     "user_tz": 360
    },
    "id": "ES5Psrxzi6qL",
    "outputId": "af939287-57ee-4114-d6e5-5f8a50bbd5fd"
   },
   "outputs": [
    {
     "name": "stdout",
     "output_type": "stream",
     "text": [
      " amyklobuchar_tweets.csv\t  SenatorTimScott_tweets.csv\n",
      " BenSasse_tweets.csv\t\t  SenatorTomUdall_tweets.csv\n",
      "'BillCassidy_tweets (1).csv'\t  SenatorWicker_tweets.csv\n",
      " BobCorker_tweets.csv\t\t 'SenBillNelson_tweets (1).csv'\n",
      "'brianschatz_tweets (1).csv'\t 'SenBlumenthal_tweets (1).csv'\n",
      "'ChrisCoons_tweets (1).csv'\t  SenBobCasey_tweets.csv\n",
      "'ChrisMurphyCT_tweets (1).csv'\t  SenCapito_tweets.csv\n",
      "'ChrisVanHollen_tweets (1).csv'   SenCortezMasto_tweets.csv\n",
      "'ChuckGrassley_tweets (1).csv'\t 'SenCoryGardner_tweets (1).csv'\n",
      " clairecmc_tweets.csv\t\t 'SenDanSullivan_tweets (1).csv'\n",
      " CoryBooker_tweets.csv\t\t 'SenDavidPerdue_tweets (1).csv'\n",
      " GrahamBlog_tweets.csv\t\t  SenDeanHeller_tweets.csv\n",
      "'JeffFlake_tweets (1).csv'\t 'SenDonnelly_tweets (1).csv'\n",
      "'JerryMoran_tweets (1).csv'\t 'SenDougJones_tweets (1).csv'\n",
      " jiminhofe_tweets.csv\t\t 'SenDuckworth_tweets (1).csv'\n",
      "'JohnBoozman_tweets (1).csv'\t 'SenFeinstein_tweets (2).csv'\n",
      " JohnCornyn_tweets.csv\t\t  SenGaryPeters_tweets.csv\n",
      "'joniernst_tweets (1).csv'\t  SenGillibrand_tweets.csv\n",
      "'lisamurkowski_tweets (1).csv'\t  SenHydeSmith_tweets.csv\n",
      "'marcorubio_tweets (1).csv'\t  SenJackReed_tweets.csv\n",
      " MarkWarner_tweets.csv\t\t  SenJeffMerkley_tweets.csv\n",
      " MartinHeinrich_tweets.csv\t  Sen_JoeManchin_tweets.csv\n",
      "'maziehirono_tweets (1).csv'\t  SenJohnBarrasso_tweets.csv\n",
      "'MikeCrapo_tweets (1).csv'\t  SenJohnHoeven_tweets.csv\n",
      " PattyMurray_tweets.csv\t\t 'SenJohnKennedy_tweets (1).csv'\n",
      "'RandPaul_tweets (1).csv'\t  SenJohnThune_tweets.csv\n",
      " RonWyden_tweets.csv\t\t 'SenJonKyl_tweets (1).csv'\n",
      " RoyBlunt_tweets.csv\t\t 'SenKamalaHarris_tweets (1).csv'\n",
      " SenAlexander_tweets.csv\t  senmarkey_tweets.csv\n",
      "'SenAngusKing_tweets (1).csv'\t  SenMikeLee_tweets.csv\n",
      "'SenateMajLdr_tweets (1).csv'\t  SenOrrinHatch_tweets.csv\n",
      " SenatorBaldwin_tweets.csv\t 'SenPatRoberts_tweets (1).csv'\n",
      "'SenatorBennet_tweets (1).csv'\t  SenRobPortman_tweets.csv\n",
      " SenatorBurr_tweets.csv\t\t  SenRonJohnson_tweets.csv\n",
      " SenatorCantwell_tweets.csv\t  sensanders_tweets.csv\n",
      "'SenatorCardin_tweets (1).csv'\t  sensanders_tweets.gsheet\n",
      "'SenatorCarper_tweets (1).csv'\t  SenSchumer_tweets.csv\n",
      "'SenatorCollins_tweets (1).csv'  'SenShelby_tweets (1).csv'\n",
      "'SenatorDurbin_tweets (1).csv'\t  SenSherrodBrown_tweets.csv\n",
      " SenatorEnzi_tweets.csv\t\t  SenStabenow_tweets.csv\n",
      " SenatorFischer_tweets.csv\t  SenTedCruz_tweets.csv\n",
      " SenatorHassan_tweets.csv\t  SenThomTillis_tweets.csv\n",
      " SenatorHeitkamp_tweets.csv\t  SenTinaSmith_tweets.csv\n",
      "'SenatorIsakson_tweets (1).csv'  'SenToddYoung_tweets (1).csv'\n",
      " SenatorLankford_tweets.csv\t 'SenTomCotton_tweets (1).csv'\n",
      " SenatorLeahy_tweets.csv\t  SenToomey_tweets.csv\n",
      " SenatorMenendez_tweets.csv\t  SenWarren_tweets.csv\n",
      "'SenatorRisch_tweets (1).csv'\t  SenWhitehouse_tweets.csv\n",
      " SenatorRounds_tweets.csv\t  SteveDaines_tweets.csv\n",
      " SenatorShaheen_tweets.csv\t  timkaine_tweets.csv\n",
      " SenatorTester_tweets.csv\n"
     ]
    }
   ],
   "source": [
    "# tweet_db = 'content/gdrive/My Drive/Senator/Tweet CSVs'\n",
    "!ls \"drive/My Drive/Senator/Tweet CSVs\""
   ]
  },
  {
   "cell_type": "code",
   "execution_count": 0,
   "metadata": {
    "colab": {},
    "colab_type": "code",
    "id": "c3sEuU6njTMI"
   },
   "outputs": [],
   "source": [
    "#need to figure out how to make sure the csvs stack check the axis part\n",
    "\n",
    "path = r'drive/My Drive/Senator/Tweet CSVs' # use your path\n",
    "all_files = glob.glob(path + \"/*.csv\")\n",
    "\n",
    "li = []\n",
    "\n",
    "for filename in all_files:\n",
    "    df = pd.read_csv(filename, index_col=None, header=0)\n",
    "    li.append(df)\n",
    "\n",
    "frame = pd.concat(li, axis=1, ignore_index=True)\n"
   ]
  },
  {
   "cell_type": "code",
   "execution_count": 0,
   "metadata": {
    "colab": {},
    "colab_type": "code",
    "id": "peUz4qBVkCyT"
   },
   "outputs": [],
   "source": [
    "li"
   ]
  },
  {
   "cell_type": "code",
   "execution_count": 0,
   "metadata": {
    "colab": {},
    "colab_type": "code",
    "id": "M8KdQjzKkDkE"
   },
   "outputs": [],
   "source": []
  }
 ],
 "metadata": {
  "colab": {
   "collapsed_sections": [],
   "name": "CSVCombine.ipynb",
   "provenance": [],
   "version": "0.3.2"
  },
  "kernelspec": {
   "display_name": "Python 3",
   "language": "python",
   "name": "python3"
  },
  "language_info": {
   "codemirror_mode": {
    "name": "ipython",
    "version": 3
   },
   "file_extension": ".py",
   "mimetype": "text/x-python",
   "name": "python",
   "nbconvert_exporter": "python",
   "pygments_lexer": "ipython3",
   "version": "3.7.0"
  },
  "toc": {
   "base_numbering": 1,
   "nav_menu": {},
   "number_sections": true,
   "sideBar": true,
   "skip_h1_title": false,
   "title_cell": "Table of Contents",
   "title_sidebar": "Contents",
   "toc_cell": false,
   "toc_position": {},
   "toc_section_display": true,
   "toc_window_display": false
  }
 },
 "nbformat": 4,
 "nbformat_minor": 1
}
